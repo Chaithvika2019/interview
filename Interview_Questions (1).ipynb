{
 "cells": [
  {
   "cell_type": "code",
   "execution_count": null,
   "id": "0b413aed",
   "metadata": {},
   "outputs": [],
   "source": [
    "1.what is python?\n",
    "Python is an interpreted , object_oriented , high level programming language with dynamic \n",
    "semantics.\n"
   ]
  },
  {
   "cell_type": "code",
   "execution_count": null,
   "id": "e099508b",
   "metadata": {},
   "outputs": [],
   "source": [
    "2.Python is an interpreted language. Explain?\n",
    "Python is an interpreted language, which means the source code of a python program is converted\n",
    "into byte code that is then executed by the python virtual machine.\n"
   ]
  },
  {
   "cell_type": "code",
   "execution_count": null,
   "id": "e2bc4a2e",
   "metadata": {},
   "outputs": [],
   "source": [
    "3.What is the difference between Lists and Tuples?\n",
    "\tTUPLES                            LISTS\n",
    "a.\tTuples are immutable.          a. The lists are mutable.\n",
    "b.\tTuples cannot be changed.    b.Lists can be modified\n",
    "c.\tTuples are more memory.      c.lists are less memory\n",
    "\n"
   ]
  },
  {
   "cell_type": "code",
   "execution_count": null,
   "id": "c6324407",
   "metadata": {},
   "outputs": [],
   "source": [
    "4.what is PEP 8?\n",
    "PEP 8 is a document that provides guide lines and best practices on how to write python code.\n"
   ]
  },
  {
   "cell_type": "code",
   "execution_count": null,
   "id": "1f40b9db",
   "metadata": {},
   "outputs": [],
   "source": [
    "5. How is memory managed  in python?\n",
    "Memory management in python involves a Private Heap containing all python objects and data \n",
    "structures.\n"
   ]
  },
  {
   "cell_type": "code",
   "execution_count": null,
   "id": "d5859309",
   "metadata": {},
   "outputs": [],
   "source": [
    "6.What are the key features of python?\n",
    "1.free and open source.\n",
    "2.Easy to code.\n",
    "3.Easy to read.\n",
    "4.Object_oriented language.\n",
    "5.Easy to debug.\n",
    "6.Extensible feature.\n",
    "7.High level language.\n",
    "8.GUI programming support.\n"
   ]
  },
  {
   "cell_type": "code",
   "execution_count": null,
   "id": "bd591b08",
   "metadata": {},
   "outputs": [],
   "source": [
    "7.What is PYTHON PATH?\n",
    "PYTHON PATH is an environment variable which you can set to add additional directories where \n",
    "python will look for modules and packages.\n"
   ]
  },
  {
   "cell_type": "code",
   "execution_count": null,
   "id": "56e66dcb",
   "metadata": {},
   "outputs": [],
   "source": [
    "8.What are Python modules?\n",
    "In python ,modules are simply files with the “.PY” extension containing python code that can be \n",
    "imported inside another python program.\n"
   ]
  },
  {
   "cell_type": "code",
   "execution_count": null,
   "id": "be6b0d37",
   "metadata": {},
   "outputs": [],
   "source": [
    "9.Explain inheritance in python with an example?\n",
    "Inheritance relationship defines the classes that inherit from other classes as derived ,sub class\n",
    "or sub_type classes.\n",
    "Example:  you have a base class of “Animal”, and a “Lion” is a Derived class. The inheritance will\n",
    "be Lion is an Animal.\n"
   ]
  },
  {
   "cell_type": "code",
   "execution_count": null,
   "id": "a9b8c2ba",
   "metadata": {},
   "outputs": [],
   "source": [
    "10.What type of Language is Python ? programming or Scripting?\n",
    "Python is capable of Scripting, but in general sense, it is considered as a general_purose \n",
    "programming language.\n"
   ]
  },
  {
   "cell_type": "code",
   "execution_count": null,
   "id": "358e1a27",
   "metadata": {},
   "outputs": [],
   "source": [
    "11.What is dynamically typed language?\n",
    "Python is an interpreted language, executes each statement line by line and thus type_cheking is \n",
    "done on the fly,during execution.Hence ,python is a Dynamically Typed language.\n"
   ]
  },
  {
   "cell_type": "code",
   "execution_count": null,
   "id": "c67acfa4",
   "metadata": {},
   "outputs": [],
   "source": [
    "12.What is an interpreted language?\n",
    "An interpreted language executes its statements line by line. Languages such as Python,Java script\n",
    ",R,PHP,and Ruby are prime examples of interpreted language runs runs directly from the source code\n",
    ", with no intermediary compilation step.\n"
   ]
  },
  {
   "cell_type": "code",
   "execution_count": null,
   "id": "04d94653",
   "metadata": {},
   "outputs": [],
   "source": [
    "13.What is pass in Python?\n",
    "The Pass keyword represents a null operation in Python.\n",
    "It is generally used for the purpose of filling up empty blocks of code.\n",
    "example:\n",
    "Def my Empty Func():\n",
    "# do nothing\n",
    "Pass\n",
    "My Empty Func()                       # nothing happens\n",
    "# without the pass keyword.\n",
    "# file “<stdin>”, line 3\n",
    "# indentation error; excepted an indented block.\n"
   ]
  },
  {
   "cell_type": "code",
   "execution_count": null,
   "id": "9ee0ec82",
   "metadata": {},
   "outputs": [],
   "source": [
    "14.What are Global, Protected and Private attributes in python?\n",
    "Global: variables are public variables that are defined in \n",
    "The global scope. To use the variable in the global scope inside a function we use the “Global” \n",
    "keyword.\n",
    "Protected:  attributes are attributes defined with an Underscore prefixed to their identifier. \n",
    "    Eg: _Uma.\n",
    "Private: attributes are attributes with Double Underscore prefix to their identifier. Eg: __Uma.\n",
    "        They cannot be accessed or modified from the outside directly and will result in an \n",
    "        Attribute Error if such an attempt is made.\n"
   ]
  },
  {
   "cell_type": "code",
   "execution_count": null,
   "id": "458f6697",
   "metadata": {},
   "outputs": [],
   "source": [
    "15.What is the use of self in python?\n",
    "Self is used to represent the instance of the class. with this keyword, you can access the \n",
    "attributes and methods of the class in python. self is used in different places and often thought\n",
    "to be a keyword. But unlike in C++, self is not a keyword in python."
   ]
  },
  {
   "cell_type": "code",
   "execution_count": null,
   "id": "c791c11b",
   "metadata": {},
   "outputs": [],
   "source": [
    "16.What is __ init __?\n",
    "__ init __ is a constructor method in python and is automatically called to allocate memory when a\n",
    "new object / instance is created. All classes have a __ init __\n",
    "Method associated with them. It helps in distinguishing methods and attributes of a class from \n",
    "local variables.\n",
    "Example : \n",
    "# class definition\n",
    "Class student:\n",
    "Def__init__(self,fname,lname,age,section):\n",
    "Self. first name = f name\n",
    "Self. last name = l name\n",
    "Self. age            = age\n",
    "Self. section = section\n",
    "# creating  a new object\n",
    "Stu 1 = (“uma”,”devi”,22,”A2”)\n"
   ]
  },
  {
   "cell_type": "code",
   "execution_count": null,
   "id": "c9e9db2d",
   "metadata": {},
   "outputs": [],
   "source": [
    "17.what is break, continue and pass in python?\n",
    "Break: the break statement terminates the loop immediately and the control flows to the statement\n",
    "after the body of the loop.\n",
    "Continue: the continue statement terminates the current iteration of the statement, skips the rest\n",
    "of the code in the current iteration and the control flows to the next iteration of the loop.\n",
    "Pass: the pass key word in python is generally used to fill up empty blocks and is similar to an \n",
    "empty statement represented by a semi-colon in Languages such as Java, C++, Java script etc.\n",
    "Example:\n",
    "Pat =[1,3,2,1,2,3,1,0,1,3]\n",
    "For p in pat:\n",
    "       Pass\n",
    "If (p == 0):\n",
    "Current = p\n",
    "break\n",
    "el if (p%2==0):\n",
    "     continue\n",
    "print(p)             # output = 13131\n",
    "print(current)    # output = 0\n",
    "\n",
    "\n"
   ]
  },
  {
   "cell_type": "code",
   "execution_count": null,
   "id": "81f54933",
   "metadata": {},
   "outputs": [],
   "source": [
    "18.what is docstring in python?\n",
    "* Documentation string or docstring is a multiline string used to document a specific code segment\n",
    "* the docstring should describe what the function or method does.\n"
   ]
  },
  {
   "cell_type": "code",
   "execution_count": null,
   "id": "5b8b5a08",
   "metadata": {},
   "outputs": [],
   "source": [
    "19.what is slicing in python?\n",
    "* as the name suggests, ‘slicing’ is taking parts of.\n",
    "* syntax for slicing is [start : stop  : step]\n",
    "* start: is the starting index from where to slice a list or tuple.\n",
    "* stop: is the ending index or where to stop.\n",
    "    *Step: is the number of steps to jump.\n",
    "* default value for start is 0, stop is number of items , step is 1.\n",
    "* slicing can be done on strings, arrays, lists, and tuples.\n",
    "Numbers =[1,2,3,4,5,6,7,8,9,10]\n",
    "Print(number[1::2])    # output = [2,4,6,8,10]\n"
   ]
  },
  {
   "cell_type": "code",
   "execution_count": null,
   "id": "46c7cf44",
   "metadata": {},
   "outputs": [],
   "source": [
    "20.What are Python namespaces?\n",
    "Ans: A namespace in python refers to the name which is assigned to each object in python. \n",
    "    The objects are variables and functions. \n",
    "There 4 types of namespace in python-\n",
    "1.\tBuilt-in namespace– These namespaces contain all the built-in objects in python and are\n",
    "available whenever python is running.\n",
    "2.\tGlobal namespace– These are namespaces for all the objects created at the level of the \n",
    "main program.\n",
    "3.\tEnclosing namespaces– These namespaces are at the higher level or outer function.\n",
    "4.\tLocal namespaces– These namespaces are at the local or inner function.\n"
   ]
  }
 ],
 "metadata": {
  "kernelspec": {
   "display_name": "Python 3 (ipykernel)",
   "language": "python",
   "name": "python3"
  },
  "language_info": {
   "codemirror_mode": {
    "name": "ipython",
    "version": 3
   },
   "file_extension": ".py",
   "mimetype": "text/x-python",
   "name": "python",
   "nbconvert_exporter": "python",
   "pygments_lexer": "ipython3",
   "version": "3.9.12"
  }
 },
 "nbformat": 4,
 "nbformat_minor": 5
}
